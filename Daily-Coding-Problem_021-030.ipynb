{
 "cells": [
  {
   "cell_type": "code",
   "execution_count": 60,
   "metadata": {},
   "outputs": [
    {
     "data": {
      "text/plain": [
       "2"
      ]
     },
     "execution_count": 60,
     "metadata": {},
     "output_type": "execute_result"
    }
   ],
   "source": [
    "# Daily-Coding-Problem_021\n",
    "\n",
    "'''\n",
    "Good morning! Here's your coding interview problem for today.\n",
    "\n",
    "This problem was asked by Snapchat.\n",
    "\n",
    "Given an array of time intervals (start, end) for classroom lectures (possibly overlapping), \n",
    "find the minimum number of rooms required.\n",
    "\n",
    "For example, given [(30, 75), (0, 50), (60, 150)], you should return 2.\n",
    "'''\n",
    "\n",
    "def minRooms(times):\n",
    "    \n",
    "    start_times = [(t[0], 1) for t in times]  # [(30, 1), (0, 1), (60, 1)]\n",
    "    end_times = [(t[1], -1) for t in times]  # [(75, -1), (50, -1), (150, -1)]\n",
    "    room_allocation = [t[1] for t in sorted(start_times + end_times, key=lambda t: t[0])]  # [1, 1, -1, 1, -1, -1]\n",
    "\n",
    "    rooms, max_rooms = 0, 0\n",
    "    for event in room_allocation:\n",
    "        rooms += event  # occupied or released\n",
    "        max_rooms = max(max_rooms, rooms)\n",
    "    assert(rooms == 0)\n",
    "\n",
    "    return max_rooms\n",
    "\n",
    "minRooms([(30, 75), (0, 50), (60, 150)])"
   ]
  },
  {
   "cell_type": "code",
   "execution_count": 61,
   "metadata": {},
   "outputs": [
    {
     "name": "stdout",
     "output_type": "stream",
     "text": [
      "Trying:\n",
      "    coding_problem_22(['Riccardo', 'Brigittie', 'and', 'lollipop'], 'RiccardoandBrigittie')\n",
      "Expecting:\n",
      "    ['Riccardo', 'and', 'Brigittie']\n",
      "ok\n",
      "Trying:\n",
      "    coding_problem_22(['quick', 'brown', 'the', 'fox'], 'thequickbrownfox')\n",
      "Expecting:\n",
      "    ['the', 'quick', 'brown', 'fox']\n",
      "ok\n",
      "Trying:\n",
      "    coding_problem_22(['bed', 'bath', 'bedbath', 'and', 'beyond'], 'bedbathandbeyond')\n",
      "Expecting:\n",
      "    ['bed', 'bath', 'and', 'beyond']\n",
      "ok\n",
      "2 items had no tests:\n",
      "    __main__.coding_problem_22\n",
      "    __main__.minRooms\n",
      "1 items passed all tests:\n",
      "   3 tests in __main__\n",
      "3 tests in 3 items.\n",
      "3 passed and 0 failed.\n",
      "Test passed.\n"
     ]
    }
   ],
   "source": [
    "# Daily-Coding-Problem_022\n",
    "\"\"\"\n",
    "Given a dictionary of words and a string made up of those words (no spaces), return the original sentence in a\n",
    "list. If there is more than one possible reconstruction, return any of them. If there is no possible\n",
    "reconstruction, then return null.\n",
    "Examples:\n",
    ">>> coding_problem_22(['Riccardo', 'Brigittie', 'and', 'lollipop'], 'RiccardoandBrigittie')\n",
    "['Riccardo', 'and', 'Brigittie']\n",
    ">>> coding_problem_22(['quick', 'brown', 'the', 'fox'], 'thequickbrownfox')\n",
    "['the', 'quick', 'brown', 'fox']\n",
    ">>> coding_problem_22(['bed', 'bath', 'bedbath', 'and', 'beyond'], 'bedbathandbeyond')\n",
    "['bed', 'bath', 'and', 'beyond']\n",
    "\"\"\"\n",
    "\n",
    "def coding_problem_22(dictionary, the_string):\n",
    "    \n",
    "    result = []\n",
    "    while the_string:\n",
    "\n",
    "        found = False\n",
    "        for word in dictionary:\n",
    "            \n",
    "            if the_string.startswith(word):\n",
    "\n",
    "                the_string = the_string[len(word):]\n",
    "                result += [word]\n",
    "                found = True\n",
    "                break\n",
    "\n",
    "        if not found:\n",
    "            return None\n",
    "\n",
    "    return result\n",
    "\n",
    "\n",
    "if __name__ == '__main__':\n",
    "\n",
    "    import doctest\n",
    "    doctest.testmod(verbose=True)"
   ]
  },
  {
   "cell_type": "code",
   "execution_count": 146,
   "metadata": {},
   "outputs": [
    {
     "name": "stdout",
     "output_type": "stream",
     "text": [
      "Trying:\n",
      "    map = [[False, False, False, False], [True, True, False, True],\n",
      "           [False, False, False, False], [False, False, False, False]]\n",
      "Expecting nothing\n",
      "ok\n",
      "Trying:\n",
      "    coding_problem_23(map, (3, 0), (0, 0))\n",
      "Expecting:\n",
      "    7\n",
      "ok\n",
      "Trying:\n",
      "    map[1][2] = True  # close off path\n",
      "Expecting nothing\n",
      "ok\n",
      "Trying:\n",
      "    coding_problem_23(map, (3, 0), (0, 0))  # None\n",
      "Expecting nothing\n",
      "ok\n",
      "3 items had no tests:\n",
      "    __main__.coding_problem_22\n",
      "    __main__.coding_problem_23\n",
      "    __main__.minRooms\n",
      "1 items passed all tests:\n",
      "   4 tests in __main__\n",
      "4 tests in 4 items.\n",
      "4 passed and 0 failed.\n",
      "Test passed.\n"
     ]
    }
   ],
   "source": [
    "# Daily-Coding-Problem_023\n",
    "\"\"\"\n",
    "You are given an M by N matrix consisting of booleans that represents a board. Each True boolean represents a wall.\n",
    "Each False boolean represents a tile you can walk on. Given this matrix, a start coordinate, and an end coordinate,\n",
    "return the minimum number of steps required to reach the end coordinate from the start. If there is no possible\n",
    "path, then return null. You can move up, left, down, and right. You cannot move through walls. You cannot wrap\n",
    "around the edges of the board.\n",
    "Examples:\n",
    ">>> map = [[False, False, False, False], [True, True, False, True],\n",
    "...        [False, False, False, False], [False, False, False, False]]\n",
    ">>> coding_problem_23(map, (3, 0), (0, 0))\n",
    "7\n",
    ">>> map[1][2] = True  # close off path\n",
    ">>> coding_problem_23(map, (3, 0), (0, 0))  # None\n",
    "\"\"\"\n",
    "\n",
    "def coding_problem_23(matrix, start, end):\n",
    "    \n",
    "    coords = [(index_r, index_c) for index_r, row in enumerate(matrix)\n",
    "              for index_c, element in enumerate(row) if not element]\n",
    "\n",
    "    current_distance = 0\n",
    "    distances = [[None for col in range(len(matrix[0]))] for row in range(len(matrix))]\n",
    "    distances[start[0]][start[1]] = 0\n",
    "    while True:\n",
    "\n",
    "        wavefront = [coord for coord in coords if distances[coord[0]][coord[1]] == current_distance]\n",
    "        if not wavefront:\n",
    "            break\n",
    "\n",
    "        current_distance += 1\n",
    "        for node in wavefront:\n",
    "\n",
    "            neighbours = [coord for coord in coords if (abs(node[0] - coord[0]) + abs(node[1] - coord[1])) == 1]\n",
    "            for n in neighbours:\n",
    "                if distances[n[0]][n[1]] is None:\n",
    "                    distances[n[0]][n[1]] = current_distance\n",
    "\n",
    "    return distances[end[0]][end[1]]\n",
    "\n",
    "\n",
    "if __name__ == '__main__':\n",
    "\n",
    "    import doctest\n",
    "    doctest.testmod(verbose=True)"
   ]
  },
  {
   "cell_type": "code",
   "execution_count": 145,
   "metadata": {},
   "outputs": [
    {
     "name": "stdout",
     "output_type": "stream",
     "text": [
      "[[False, False, False, False], [True, True, False, True], [False, False, False, False], [False, False, False, False]]\n"
     ]
    }
   ],
   "source": [
    "def coding_problem_23(matrix, start, end):\n",
    "    \n",
    "    coords = [(index_r, index_c) for index_r, row in enumerate(matrix)\n",
    "              for index_c, element in enumerate(row) if not element]\n",
    "\n",
    "    current_distance = 0\n",
    "    distances = [[None for col in range(len(matrix[0]))] for row in range(len(matrix))]\n",
    "    distances[start[0]][start[1]] = 0\n",
    "    while True:\n",
    "\n",
    "        wavefront = [coord for coord in coords if distances[coord[0]][coord[1]] == current_distance]\n",
    "        if not wavefront:\n",
    "            break\n",
    "\n",
    "        current_distance += 1\n",
    "        for node in wavefront:\n",
    "\n",
    "            neighbours = [coord for coord in coords if (abs(node[0] - coord[0]) + abs(node[1] - coord[1])) == 1]\n",
    "            for n in neighbours:\n",
    "                if distances[n[0]][n[1]] is None:\n",
    "                    distances[n[0]][n[1]] = current_distance\n",
    "\n",
    "    return distances[end[0]][end[1]]\n",
    "\n",
    "map = [[False, False, False, False], [True, True, False, True],[False, False, False, False], [False, False, False, False]]\n",
    "coding_problem_23(map, (3, 0), (0, 0))\n",
    "print(map)"
   ]
  },
  {
   "cell_type": "code",
   "execution_count": 179,
   "metadata": {
    "scrolled": true
   },
   "outputs": [
    {
     "data": {
      "image/png": "[encoded data removed]",
      "text/plain": [
       "<Figure size 432x288 with 4 Axes>"
      ]
     },
     "metadata": {
      "needs_background": "light"
     },
     "output_type": "display_data"
    }
   ],
   "source": [
    "import numpy as np\n",
    "import seaborn as sns\n",
    "import matplotlib.pyplot as plt\n",
    "\n",
    "mep=map\n",
    "mop=np.ones(16)\n",
    "j=0\n",
    "for mepind in (mep):\n",
    "    for i in mepind:\n",
    "\n",
    "        if i==False:\n",
    "            mop[j]=0\n",
    "        else:\n",
    "            mop[j]=1\n",
    "        j=j+1\n",
    "moped=np.reshape(mop,(4,4))\n",
    "\n",
    "fig = plt.figure()\n",
    "fig.subplots_adjust(hspace=0.4, wspace=0.4)\n",
    "fig.add_subplot(1,2,1)\n",
    "ax=sns.heatmap(moped,linewidths=.5)\n",
    "fig.add_subplot(1,2,2)\n",
    "ay=sns.heatmap(map, annot=True, fmt=\"d\")"
   ]
  },
  {
   "cell_type": "code",
   "execution_count": null,
   "metadata": {},
   "outputs": [],
   "source": []
  },
  {
   "cell_type": "code",
   "execution_count": null,
   "metadata": {},
   "outputs": [],
   "source": []
  },
  {
   "cell_type": "code",
   "execution_count": null,
   "metadata": {},
   "outputs": [],
   "source": []
  },
  {
   "cell_type": "code",
   "execution_count": null,
   "metadata": {},
   "outputs": [],
   "source": []
  },
  {
   "cell_type": "code",
   "execution_count": null,
   "metadata": {},
   "outputs": [],
   "source": []
  },
  {
   "cell_type": "code",
   "execution_count": null,
   "metadata": {},
   "outputs": [],
   "source": []
  }
 ],
 "metadata": {
  "kernelspec": {
   "display_name": "Python 3",
   "language": "python",
   "name": "python3"
  },
  "language_info": {
   "codemirror_mode": {
    "name": "ipython",
    "version": 3
   },
   "file_extension": ".py",
   "mimetype": "text/x-python",
   "name": "python",
   "nbconvert_exporter": "python",
   "pygments_lexer": "ipython3",
   "version": "3.7.4"
  }
 },
 "nbformat": 4,
 "nbformat_minor": 2
}
